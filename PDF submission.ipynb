{
 "cells": [
  {
   "cell_type": "code",
   "execution_count": 36,
   "id": "b9684508-2c50-4e1c-98cf-1151ecaf57ed",
   "metadata": {},
   "outputs": [
    {
     "name": "stdout",
     "output_type": "stream",
     "text": [
      "Constructing polynomials f, g, h using PolynomialDense:\n"
     ]
    },
    {
     "name": "stderr",
     "output_type": "stream",
     "text": [
      "\u001b[32m\u001b[1m  Activating\u001b[22m\u001b[39m project at `~/Library/CloudStorage/OneDrive-Personal/UQ/Semester 2 2025/MATH2504/Chester-Battley-2504-2025-PROJECT1`\n"
     ]
    },
    {
     "name": "stdout",
     "output_type": "stream",
     "text": [
      "f = x ^ 2 - 2x = -2⋅x^1 + 1⋅x^2\n",
      "g = 2 * x ^ 3 + 3 * x ^ 2 + -3 = -3 + 3⋅x^2 + 2⋅x^3\n",
      "h = x + 2 = 2 + 1⋅x^1\n",
      "Basic operations with the polynomials:\n",
      "f + g = -3 + -2⋅x^1 + 4⋅x^2 + 2⋅x^3\n",
      "f * h = -4⋅x^1 + 1⋅x^3\n",
      "g * h = -6 + -3⋅x^1 + 6⋅x^2 + 7⋅x^3 + 2⋅x^4\n",
      "Computing derivative(f*g) and confirming this follows product rule:\n",
      "derivative(f * g) = 6 + -6⋅x^1 + -18⋅x^2 + -4⋅x^3 + 10⋅x^4\n",
      "f * derivative(g) + g * derivative(f) = 6 + -6⋅x^1 + -18⋅x^2 + -4⋅x^3 + 10⋅x^4\n",
      "Computing (f*h)/h modulo 5,17,101 and confirming these match f modulo 5,17,101:\n",
      "div_mod_p(f * h, h, 5) = 3⋅x^1 + 1⋅x^2\n",
      "mod(f, 5) = 3⋅x^1 + 1⋅x^2\n",
      "div_mod_p(f * h, h, 17) = 15⋅x^1 + 1⋅x^2\n",
      "mod(f, 17) = 15⋅x^1 + 1⋅x^2\n",
      "div_mod_p(f * h, h, 101) = 99⋅x^1 + 1⋅x^2\n",
      "mod(f, 101) = 99⋅x^1 + 1⋅x^2\n",
      "Computing gcd_mod_p for p=5,11,13:\n",
      "gcd_mod_p(f * h, g * h, 5) = 4 + 4⋅x^2\n",
      "gcd_mod_p(f * h, g * h, 11) = 9 + 10⋅x^1\n",
      "gcd_mod_p(f * h, g * h, 13) = 6 + 3⋅x^1\n"
     ]
    },
    {
     "data": {
      "text/plain": [
       "6 + 3⋅x^1"
      ]
     },
     "metadata": {},
     "output_type": "display_data"
    }
   ],
   "source": [
    "## Task 1.1 (Create Example Scripts)\n",
    "using Pkg\n",
    "Pkg.activate(\".\")\n",
    "\n",
    "include(\"poly_factorization_project.jl\")\n",
    "\n",
    "x = x_poly(PolynomialDense)\n",
    "println(\"Constructing polynomials f, g, h using PolynomialDense:\")\n",
    "@show f = x^2 - 2x\n",
    "@show g = 2x^3 + 3x^2 + (-3)\n",
    "@show h = x + 2\n",
    "\n",
    "println(\"Basic operations with the polynomials:\")\n",
    "@show f + g\n",
    "@show f * h\n",
    "@show g * h\n",
    "\n",
    "println(\"Computing derivative(f*g) and confirming this follows product rule:\")\n",
    "@show derivative(f*g)\n",
    "@show f*derivative(g) + g*derivative(f)\n",
    "\n",
    "println(\"Computing (f*h)/h modulo 5,17,101 and confirming these match f modulo 5,17,101:\")\n",
    "@show div_mod_p((f*h), h, 5)\n",
    "@show mod(f, 5)\n",
    "@show div_mod_p((f*h), h, 17)\n",
    "@show mod(f, 17)\n",
    "@show div_mod_p((f*h), h, 101)\n",
    "@show mod(f, 101)\n",
    "\n",
    "println(\"Computing gcd_mod_p for p=5,11,13:\")\n",
    "@show gcd_mod_p(f*h, g*h, 5)\n",
    "@show gcd_mod_p(f*h, g*h, 11)\n",
    "@show gcd_mod_p(f*h, g*h, 13)"
   ]
  },
  {
   "cell_type": "code",
   "execution_count": 1,
   "id": "93e60ef6",
   "metadata": {},
   "outputs": [
    {
     "name": "stderr",
     "output_type": "stream",
     "text": [
      "\u001b[32m\u001b[1m  Activating\u001b[22m\u001b[39m "
     ]
    },
    {
     "name": "stdout",
     "output_type": "stream",
     "text": [
      "Demonstrating overflow with Int vs BigInt coefficients:\n",
      "\n"
     ]
    },
    {
     "name": "stderr",
     "output_type": "stream",
     "text": [
      "project at `~/Library/CloudStorage/OneDrive-Personal/UQ/Semester 2 2025/MATH2504/Chester-Battley-2504-2025-PROJECT1`\n"
     ]
    },
    {
     "name": "stdout",
     "output_type": "stream",
     "text": [
      "Maximum Int value: 9223372036854775807\n",
      "\n",
      "Example 1:\n",
      "With Int: -446744073709551616 (overflows)\n",
      "With BigInt: 18000000000000000000 (correct: 18000000000000000000)\n",
      "\n",
      "Example 2:\n",
      "With Int: -8446744073709551616x (overflows)\n",
      "With BigInt: 10000000000000000000x (correct: 10000000000000000000x)\n",
      "\n",
      "Example 3:\n",
      "With Int: --9223372036854775808 (overflows to negative)\n",
      "With BigInt: 9223372036854775808 (correct: 9223372036854775808)\n",
      "\n",
      "Example 4:\n",
      "With Int: -4446744073709551616x^2 - 4446744073709551616 (overflows)\n",
      "With BigInt: 14000000000000000000x^2 + 14000000000000000000 (correct)\n",
      "\n",
      "Example 5:\n",
      "With Int: -2446744073709551616x (overflows)\n",
      "With BigInt: 16000000000000000000x (correct: 16000000000000000000x)\n",
      "\n"
     ]
    }
   ],
   "source": [
    "## Task 2.8 (Showing the output of example_script_task_2.jl)\n",
    "using Pkg\n",
    "Pkg.activate(\".\")\n",
    "\n",
    "include(\"poly_factorization_project.jl\")\n",
    "\n",
    "println(\"Demonstrating overflow with Int vs BigInt coefficients:\\n\")\n",
    "println(\"Maximum Int value: \", typemax(Int), \"\\n\")\n",
    "\n",
    "# Example 1: Close to max Int\n",
    "println(\"Example 1:\")\n",
    "p1_int = PolynomialDense{Int, Int}([Term(9000000000000000000, 0)])\n",
    "p2_int = PolynomialDense{Int, Int}([Term(9000000000000000000, 0)])\n",
    "p_sum1_int = p1_int + p2_int\n",
    "println(\"With Int: \", p_sum1_int, \" (overflows)\")\n",
    "\n",
    "p1_big = PolynomialDense{BigInt, Int}([Term(BigInt(9000000000000000000), 0)])\n",
    "p2_big = PolynomialDense{BigInt, Int}([Term(BigInt(9000000000000000000), 0)])\n",
    "p_sum1_big = p1_big + p2_big\n",
    "println(\"With BigInt: \", p_sum1_big, \" (correct: 18000000000000000000)\\n\")\n",
    "\n",
    "# Example 2\n",
    "println(\"Example 2:\")\n",
    "p3_int = PolynomialDense{Int, Int}([Term(5000000000000000000, 1)])\n",
    "p4_int = PolynomialDense{Int, Int}([Term(5000000000000000000, 1)])\n",
    "p_sum2_int = p3_int + p4_int\n",
    "println(\"With Int: \", p_sum2_int, \" (overflows)\")\n",
    "\n",
    "p3_big = PolynomialDense{BigInt, Int}([Term(BigInt(5000000000000000000), 1)])\n",
    "p4_big = PolynomialDense{BigInt, Int}([Term(BigInt(5000000000000000000), 1)])\n",
    "p_sum2_big = p3_big + p4_big\n",
    "println(\"With BigInt: \", p_sum2_big, \" (correct: 10000000000000000000x)\\n\")\n",
    "\n",
    "# Example 3: Max Int + 1\n",
    "println(\"Example 3:\")\n",
    "max_int = typemax(Int)\n",
    "p5_int = PolynomialDense{Int, Int}([Term(max_int, 0)])\n",
    "p6_int = PolynomialDense{Int, Int}([Term(1, 0)])\n",
    "p_sum3_int = p5_int + p6_int\n",
    "println(\"With Int: \", p_sum3_int, \" (overflows to negative)\")\n",
    "\n",
    "p5_big = PolynomialDense{BigInt, Int}([Term(BigInt(max_int), 0)])\n",
    "p6_big = PolynomialDense{BigInt, Int}([Term(BigInt(1), 0)])\n",
    "p_sum3_big = p5_big + p6_big\n",
    "println(\"With BigInt: \", p_sum3_big, \" (correct: \", BigInt(max_int) + 1, \")\\n\")\n",
    "\n",
    "# Example 4\n",
    "println(\"Example 4:\")\n",
    "p7_int = PolynomialDense{Int, Int}([Term(7000000000000000000, 0), Term(7000000000000000000, 2)])\n",
    "p8_int = PolynomialDense{Int, Int}([Term(7000000000000000000, 0), Term(7000000000000000000, 2)])\n",
    "p_sum4_int = p7_int + p8_int\n",
    "println(\"With Int: \", p_sum4_int, \" (overflows)\")\n",
    "\n",
    "p7_big = PolynomialDense{BigInt, Int}([Term(BigInt(7000000000000000000), 0), Term(BigInt(7000000000000000000), 2)])\n",
    "p8_big = PolynomialDense{BigInt, Int}([Term(BigInt(7000000000000000000), 0), Term(BigInt(7000000000000000000), 2)])\n",
    "p_sum4_big = p7_big + p8_big\n",
    "println(\"With BigInt: \", p_sum4_big, \" (correct)\\n\")\n",
    "\n",
    "# Example 5\n",
    "println(\"Example 5:\")\n",
    "p9_int = PolynomialDense{Int, Int}([Term(8000000000000000000, 1)])\n",
    "p10_int = PolynomialDense{Int, Int}([Term(8000000000000000000, 1)])\n",
    "p_sum5_int = p9_int + p10_int\n",
    "println(\"With Int: \", p_sum5_int, \" (overflows)\")\n",
    "\n",
    "p9_big = PolynomialDense{BigInt, Int}([Term(BigInt(8000000000000000000), 1)])\n",
    "p10_big = PolynomialDense{BigInt, Int}([Term(BigInt(8000000000000000000), 1)])\n",
    "p_sum5_big = p9_big + p10_big\n",
    "println(\"With BigInt: \", p_sum5_big, \" (correct: 16000000000000000000x)\\n\")"
   ]
  },
  {
   "cell_type": "code",
   "execution_count": 2,
   "id": "d167cc65",
   "metadata": {},
   "outputs": [
    {
     "name": "stderr",
     "output_type": "stream",
     "text": [
      "\u001b[32m\u001b[1m  Activating\u001b[22m\u001b[39m "
     ]
    },
    {
     "name": "stdout",
     "output_type": "stream",
     "text": [
      "---BEGIN INTEGER UNIT TESTS---\n"
     ]
    },
    {
     "name": "stderr",
     "output_type": "stream",
     "text": [
      "project at `~/Library/CloudStorage/OneDrive-Personal/UQ/Semester 2 2025/MATH2504/Chester-Battley-2504-2025-PROJECT1`\n"
     ]
    },
    {
     "name": "stdout",
     "output_type": "stream",
     "text": [
      "test_euclid_ints - PASSED\n",
      "test_ext_euclid_ints - PASSED\n",
      "---END INTEGER UNIT TESTS---\n",
      "\n",
      "---BEGIN HEAP UNIT TESTS---\n",
      "test_heap - popall non-destructive vector constructor - PASSED\n",
      "test_heap - PASSED\n",
      "---END HEAP UNIT TESTS---\n",
      "\n",
      "---BEGIN POLYNOMIAL UNIT TESTS---\n",
      "\n",
      "Type of `Polynomial`: PolynomialDense{Int64, Int64}\n",
      "prod_test_poly for PolynomialDense{Int64, Int64} - PASSED\n",
      "prod_derivative_test_poly for PolynomialDense{Int64, Int64} - PASSED\n",
      "ext_euclid_test_poly for PolynomialDense{Int64, Int64} - PASSED\n",
      "division_test_poly for PolynomialDense{Int64, Int64} - PASSED\n",
      "\n",
      "Type of `Polynomial`: PolynomialDense{BigInt, Int64}\n",
      "prod_test_poly for PolynomialDense{BigInt, Int64} - PASSED\n",
      "prod_derivative_test_poly for PolynomialDense{BigInt, Int64} - PASSED\n",
      "ext_euclid_test_poly for PolynomialDense{BigInt, Int64} - PASSED\n",
      "division_test_poly for PolynomialDense{BigInt, Int64} - PASSED\n",
      "\n",
      "---END POLYNOMIAL UNIT TESTS---\n",
      "\n",
      "---BEGIN FACTORIZATION UNIT TESTS---\n",
      "\n",
      "Type of `Polynomial`: PolynomialDense{Int64, Int64}\n",
      "\n",
      "doing prime = 5 \t..........\n",
      "doing prime = 7 \t..........\n",
      "doing prime = 11 \t..........\n",
      "\n",
      "factor_mod_p_test_poly for PolynomialDense{Int64, Int64} - PASSED\n",
      "\n",
      "Type of `Polynomial`: PolynomialDense{BigInt, Int64}\n",
      "\n",
      "doing prime = 5 \t..........\n",
      "doing prime = 7 \t..........\n",
      "doing prime = 11 \t..........\n",
      "\n",
      "factor_mod_p_test_poly for PolynomialDense{BigInt, Int64} - PASSED\n",
      "\n",
      "---END FACTORISATION UNIT TESTS---\n"
     ]
    }
   ],
   "source": [
    "## Task 2.9 (Running tests)\n",
    "include(\"test/runtests.jl\")"
   ]
  }
 ],
 "metadata": {
  "kernelspec": {
   "display_name": "Julia 1.11.6",
   "language": "julia",
   "name": "julia-1.11"
  },
  "language_info": {
   "file_extension": ".jl",
   "mimetype": "application/julia",
   "name": "julia",
   "version": "1.11.6"
  }
 },
 "nbformat": 4,
 "nbformat_minor": 5
}
