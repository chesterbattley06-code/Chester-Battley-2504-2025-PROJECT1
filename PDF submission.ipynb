{
 "cells": [
  {
   "cell_type": "markdown",
   "id": "0ba0e246",
   "metadata": {},
   "source": [
    "### Task 1.11 (Showing the output of example_script_task_1.jl)"
   ]
  },
  {
   "cell_type": "code",
   "execution_count": 15,
   "id": "b9684508-2c50-4e1c-98cf-1151ecaf57ed",
   "metadata": {},
   "outputs": [
    {
     "name": "stdout",
     "output_type": "stream",
     "text": [
      "Constructing polynomials f, g, h using PolynomialDense:\n"
     ]
    },
    {
     "name": "stderr",
     "output_type": "stream",
     "text": [
      "\u001b[32m\u001b[1m  Activating\u001b[22m\u001b[39m project at `~/Library/CloudStorage/OneDrive-Personal/UQ/Semester 2 2025/MATH2504/Chester-Battley-2504-2025-PROJECT1`\n"
     ]
    },
    {
     "name": "stdout",
     "output_type": "stream",
     "text": [
      "f = x ^ 2 - 2x = x^2 - 2x\n",
      "g = 2 * x ^ 3 + 3 * x ^ 2 + -3 = 2x^3 + 3x^2 - 3\n",
      "h = x + 2 = x + 2\n",
      "Basic operations with the polynomials:\n",
      "f + g = 2x^3 + 4x^2 - 2x - 3\n",
      "f * h = x^3 - 4x\n",
      "g * h = 2x^4 + 7x^3 + 6x^2 - 3x - 6\n",
      "Computing derivative(f*g) and confirming this follows product rule:\n",
      "derivative(f * g) = 10x^4 - 4x^3 - 18x^2 - 6x + 6\n",
      "f * derivative(g) + g * derivative(f) = 10x^4 - 4x^3 - 18x^2 - 6x + 6\n",
      "Computing (f*h)/h modulo 5,17,101 and confirming these match f modulo 5,17,101:\n",
      "div_mod_p(f * h, h, 5) = x^2 + 3x\n",
      "mod(f, 5) = x^2 + 3x\n",
      "div_mod_p(f * h, h, 17) = x^2 + 15x\n",
      "mod(f, 17) = x^2 + 15x\n",
      "div_mod_p(f * h, h, 101) = x^2 + 99x\n",
      "mod(f, 101) = x^2 + 99x\n",
      "Computing gcd_mod_p for p=5,11,13:\n",
      "gcd_mod_p(f * h, g * h, 5) = 4x^2 + 4\n",
      "gcd_mod_p(f * h, g * h, 11) = 10x + 9\n",
      "gcd_mod_p(f * h, g * h, 13) = 3x + 6\n"
     ]
    },
    {
     "data": {
      "text/plain": [
       "3x + 6"
      ]
     },
     "metadata": {},
     "output_type": "display_data"
    }
   ],
   "source": [
    "using Pkg\n",
    "Pkg.activate(\".\")\n",
    "\n",
    "include(\"poly_factorization_project.jl\")\n",
    "\n",
    "x = x_poly(PolynomialDense{Int, Int})\n",
    "println(\"Constructing polynomials f, g, h using PolynomialDense:\")\n",
    "@show f = x^2 - 2x\n",
    "@show g = 2x^3 + 3x^2 + (-3)\n",
    "@show h = x + 2\n",
    "\n",
    "println(\"Basic operations with the polynomials:\")\n",
    "@show f + g\n",
    "@show f * h\n",
    "@show g * h\n",
    "\n",
    "println(\"Computing derivative(f*g) and confirming this follows product rule:\")\n",
    "@show derivative(f*g)\n",
    "@show f*derivative(g) + g*derivative(f)\n",
    "\n",
    "println(\"Computing (f*h)/h modulo 5,17,101 and confirming these match f modulo 5,17,101:\")\n",
    "@show div_mod_p((f*h), h, 5)\n",
    "@show mod(f, 5)\n",
    "@show div_mod_p((f*h), h, 17)\n",
    "@show mod(f, 17)\n",
    "@show div_mod_p((f*h), h, 101)\n",
    "@show mod(f, 101)\n",
    "\n",
    "println(\"Computing gcd_mod_p for p=5,11,13:\")\n",
    "@show gcd_mod_p(f*h, g*h, 5)\n",
    "@show gcd_mod_p(f*h, g*h, 11)\n",
    "@show gcd_mod_p(f*h, g*h, 13)"
   ]
  },
  {
   "cell_type": "markdown",
   "id": "b6e82325",
   "metadata": {},
   "source": [
    "### Task 2.8 (Showing the output of example_script_task_2.jl)"
   ]
  },
  {
   "cell_type": "code",
   "execution_count": 16,
   "id": "93e60ef6",
   "metadata": {},
   "outputs": [
    {
     "name": "stdout",
     "output_type": "stream",
     "text": [
      "Demonstrating overflow with Int vs BigInt coefficients:\n",
      "\n"
     ]
    },
    {
     "name": "stderr",
     "output_type": "stream",
     "text": [
      "\u001b[32m\u001b[1m  Activating\u001b[22m\u001b[39m project at `~/Library/CloudStorage/OneDrive-Personal/UQ/Semester 2 2025/MATH2504/Chester-Battley-2504-2025-PROJECT1`\n"
     ]
    },
    {
     "name": "stdout",
     "output_type": "stream",
     "text": [
      "Maximum Int value: 9223372036854775807\n",
      "\n",
      "Example 1:\n",
      "With Int: -446744073709551616 (overflows)\n",
      "With BigInt: 18000000000000000000 (correct: 18000000000000000000)\n",
      "\n",
      "Example 2:\n",
      "With Int: -8446744073709551616x (overflows)\n",
      "With BigInt: 10000000000000000000x (correct: 10000000000000000000x)\n",
      "\n",
      "Example 3:\n",
      "With Int: --9223372036854775808 (overflows to negative)\n",
      "With BigInt: 9223372036854775808 (correct: 9223372036854775808)\n",
      "\n",
      "Example 4:\n",
      "With Int: -4446744073709551616x^2 - 4446744073709551616 (overflows)\n",
      "With BigInt: 14000000000000000000x^2 + 14000000000000000000 (correct)\n",
      "\n",
      "Example 5:\n",
      "With Int: -2446744073709551616x (overflows)\n",
      "With BigInt: 16000000000000000000x (correct: 16000000000000000000x)\n",
      "\n"
     ]
    }
   ],
   "source": [
    "using Pkg\n",
    "Pkg.activate(\".\")\n",
    "\n",
    "include(\"poly_factorization_project.jl\")\n",
    "\n",
    "println(\"Demonstrating overflow with Int vs BigInt coefficients:\\n\")\n",
    "println(\"Maximum Int value: \", typemax(Int), \"\\n\")\n",
    "\n",
    "# Example 1: Close to max Int\n",
    "println(\"Example 1:\")\n",
    "p1_int = PolynomialDense{Int, Int}([Term(9000000000000000000, 0)])\n",
    "p2_int = PolynomialDense{Int, Int}([Term(9000000000000000000, 0)])\n",
    "p_sum1_int = p1_int + p2_int\n",
    "println(\"With Int: \", p_sum1_int, \" (overflows)\")\n",
    "\n",
    "p1_big = PolynomialDense{BigInt, Int}([Term(BigInt(9000000000000000000), 0)])\n",
    "p2_big = PolynomialDense{BigInt, Int}([Term(BigInt(9000000000000000000), 0)])\n",
    "p_sum1_big = p1_big + p2_big\n",
    "println(\"With BigInt: \", p_sum1_big, \" (correct: 18000000000000000000)\\n\")\n",
    "\n",
    "# Example 2\n",
    "println(\"Example 2:\")\n",
    "p3_int = PolynomialDense{Int, Int}([Term(5000000000000000000, 1)])\n",
    "p4_int = PolynomialDense{Int, Int}([Term(5000000000000000000, 1)])\n",
    "p_sum2_int = p3_int + p4_int\n",
    "println(\"With Int: \", p_sum2_int, \" (overflows)\")\n",
    "\n",
    "p3_big = PolynomialDense{BigInt, Int}([Term(BigInt(5000000000000000000), 1)])\n",
    "p4_big = PolynomialDense{BigInt, Int}([Term(BigInt(5000000000000000000), 1)])\n",
    "p_sum2_big = p3_big + p4_big\n",
    "println(\"With BigInt: \", p_sum2_big, \" (correct: 10000000000000000000x)\\n\")\n",
    "\n",
    "# Example 3: Max Int + 1\n",
    "println(\"Example 3:\")\n",
    "max_int = typemax(Int)\n",
    "p5_int = PolynomialDense{Int, Int}([Term(max_int, 0)])\n",
    "p6_int = PolynomialDense{Int, Int}([Term(1, 0)])\n",
    "p_sum3_int = p5_int + p6_int\n",
    "println(\"With Int: \", p_sum3_int, \" (overflows to negative)\")\n",
    "\n",
    "p5_big = PolynomialDense{BigInt, Int}([Term(BigInt(max_int), 0)])\n",
    "p6_big = PolynomialDense{BigInt, Int}([Term(BigInt(1), 0)])\n",
    "p_sum3_big = p5_big + p6_big\n",
    "println(\"With BigInt: \", p_sum3_big, \" (correct: \", BigInt(max_int) + 1, \")\\n\")\n",
    "\n",
    "# Example 4\n",
    "println(\"Example 4:\")\n",
    "p7_int = PolynomialDense{Int, Int}([Term(7000000000000000000, 0), Term(7000000000000000000, 2)])\n",
    "p8_int = PolynomialDense{Int, Int}([Term(7000000000000000000, 0), Term(7000000000000000000, 2)])\n",
    "p_sum4_int = p7_int + p8_int\n",
    "println(\"With Int: \", p_sum4_int, \" (overflows)\")\n",
    "\n",
    "p7_big = PolynomialDense{BigInt, Int}([Term(BigInt(7000000000000000000), 0), Term(BigInt(7000000000000000000), 2)])\n",
    "p8_big = PolynomialDense{BigInt, Int}([Term(BigInt(7000000000000000000), 0), Term(BigInt(7000000000000000000), 2)])\n",
    "p_sum4_big = p7_big + p8_big\n",
    "println(\"With BigInt: \", p_sum4_big, \" (correct)\\n\")\n",
    "\n",
    "# Example 5\n",
    "println(\"Example 5:\")\n",
    "p9_int = PolynomialDense{Int, Int}([Term(8000000000000000000, 1)])\n",
    "p10_int = PolynomialDense{Int, Int}([Term(8000000000000000000, 1)])\n",
    "p_sum5_int = p9_int + p10_int\n",
    "println(\"With Int: \", p_sum5_int, \" (overflows)\")\n",
    "\n",
    "p9_big = PolynomialDense{BigInt, Int}([Term(BigInt(8000000000000000000), 1)])\n",
    "p10_big = PolynomialDense{BigInt, Int}([Term(BigInt(8000000000000000000), 1)])\n",
    "p_sum5_big = p9_big + p10_big\n",
    "println(\"With BigInt: \", p_sum5_big, \" (correct: 16000000000000000000x)\\n\")"
   ]
  },
  {
   "cell_type": "markdown",
   "id": "fbd0825f",
   "metadata": {},
   "source": [
    "### Task 2.9 (Running tests)"
   ]
  },
  {
   "cell_type": "code",
   "execution_count": null,
   "id": "d167cc65",
   "metadata": {},
   "outputs": [
    {
     "name": "stdout",
     "output_type": "stream",
     "text": [
      "---BEGIN INTEGER UNIT TESTS---\n"
     ]
    },
    {
     "name": "stderr",
     "output_type": "stream",
     "text": [
      "\u001b[32m\u001b[1m  Activating\u001b[22m\u001b[39m project at `~/Library/CloudStorage/OneDrive-Personal/UQ/Semester 2 2025/MATH2504/Chester-Battley-2504-2025-PROJECT1`\n"
     ]
    },
    {
     "name": "stdout",
     "output_type": "stream",
     "text": [
      "test_euclid_ints - PASSED\n",
      "test_ext_euclid_ints - PASSED\n",
      "---END INTEGER UNIT TESTS---\n",
      "\n",
      "---BEGIN HEAP UNIT TESTS---\n",
      "test_heap - popall non-destructive vector constructor - PASSED\n",
      "test_heap - PASSED\n",
      "---END HEAP UNIT TESTS---\n",
      "\n",
      "---BEGIN POLYNOMIAL UNIT TESTS---\n",
      "\n",
      "Type of `Polynomial`: PolynomialDense{Int64, Int64}\n",
      "prod_test_poly for PolynomialDense{Int64, Int64} - PASSED\n",
      "prod_derivative_test_poly for PolynomialDense{Int64, Int64} - PASSED\n",
      "ext_euclid_test_poly for PolynomialDense{Int64, Int64} - PASSED\n",
      "division_test_poly for PolynomialDense{Int64, Int64} - PASSED\n"
     ]
    }
   ],
   "source": [
    "include(\"test/runtests.jl\")"
   ]
  },
  {
   "cell_type": "markdown",
   "id": "8410fe04",
   "metadata": {},
   "source": [
    "### Task 3.9 (Showing the output of example_script_task_3.jl)"
   ]
  },
  {
   "cell_type": "code",
   "execution_count": null,
   "id": "eec454c4",
   "metadata": {},
   "outputs": [],
   "source": [
    "using Pkg\n",
    "Pkg.activate(\".\")\n",
    "\n",
    "include(\"poly_factorization_project.jl\")\n",
    "\n",
    "println(\"Demonstrating overflow with Int vs BigInt coefficients:\\n\")\n",
    "println(\"Maximum Int value: \", typemax(Int), \"\\n\")\n",
    "\n",
    "# Example 1: Close to max Int\n",
    "println(\"Example 1:\")\n",
    "p1_int = PolynomialSparse{Int, Int}([Term(9000000000000000000, 0)])\n",
    "p2_int = PolynomialSparse{Int, Int}([Term(9000000000000000000, 0)])\n",
    "p_sum1_int = p1_int + p2_int\n",
    "println(\"With Int: \", p_sum1_int, \" (overflows)\")\n",
    "\n",
    "p1_big = PolynomialSparse{BigInt, Int}([Term(BigInt(9000000000000000000), 0)])\n",
    "p2_big = PolynomialSparse{BigInt, Int}([Term(BigInt(9000000000000000000), 0)])\n",
    "p_sum1_big = p1_big + p2_big\n",
    "println(\"With BigInt: \", p_sum1_big, \" (correct: 18000000000000000000)\\n\")\n",
    "\n",
    "# Example 2\n",
    "println(\"Example 2:\")\n",
    "p3_int = PolynomialSparse{Int, Int}([Term(5000000000000000000, 1)])\n",
    "p4_int = PolynomialSparse{Int, Int}([Term(5000000000000000000, 1)])\n",
    "p_sum2_int = p3_int + p4_int\n",
    "println(\"With Int: \", p_sum2_int, \" (overflows)\")\n",
    "\n",
    "p3_big = PolynomialSparse{BigInt, Int}([Term(BigInt(5000000000000000000), 1)])\n",
    "p4_big = PolynomialSparse{BigInt, Int}([Term(BigInt(5000000000000000000), 1)])\n",
    "p_sum2_big = p3_big + p4_big\n",
    "println(\"With BigInt: \", p_sum2_big, \" (correct: 10000000000000000000x)\\n\")\n",
    "\n",
    "# Example 3: Max Int + 1\n",
    "println(\"Example 3:\")\n",
    "max_int = typemax(Int)\n",
    "p5_int = PolynomialSparse{Int, Int}([Term(max_int, 0)])\n",
    "p6_int = PolynomialSparse{Int, Int}([Term(1, 0)])\n",
    "p_sum3_int = p5_int + p6_int\n",
    "println(\"With Int: \", p_sum3_int, \" (overflows to negative)\")\n",
    "\n",
    "p5_big = PolynomialSparse{BigInt, Int}([Term(BigInt(max_int), 0)])\n",
    "p6_big = PolynomialSparse{BigInt, Int}([Term(BigInt(1), 0)])\n",
    "p_sum3_big = p5_big + p6_big\n",
    "println(\"With BigInt: \", p_sum3_big, \" (correct: \", BigInt(max_int) + 1, \")\\n\")\n",
    "\n",
    "# Example 4\n",
    "println(\"Example 4:\")\n",
    "p7_int = PolynomialSparse{Int, Int}([Term(7000000000000000000, 0), Term(7000000000000000000, 2)])\n",
    "p8_int = PolynomialSparse{Int, Int}([Term(7000000000000000000, 0), Term(7000000000000000000, 2)])\n",
    "p_sum4_int = p7_int + p8_int\n",
    "println(\"With Int: \", p_sum4_int, \" (overflows)\")\n",
    "\n",
    "p7_big = PolynomialSparse{BigInt, Int}([Term(BigInt(7000000000000000000), 0), Term(BigInt(7000000000000000000), 2)])\n",
    "p8_big = PolynomialSparse{BigInt, Int}([Term(BigInt(7000000000000000000), 0), Term(BigInt(7000000000000000000), 2)])\n",
    "p_sum4_big = p7_big + p8_big\n",
    "println(\"With BigInt: \", p_sum4_big, \" (correct)\\n\")\n",
    "\n",
    "# Example 5\n",
    "println(\"Example 5:\")\n",
    "p9_int = PolynomialSparse{Int, Int}([Term(8000000000000000000, 1)])\n",
    "p10_int = PolynomialSparse{Int, Int}([Term(8000000000000000000, 1)])\n",
    "p_sum5_int = p9_int + p10_int\n",
    "println(\"With Int: \", p_sum5_int, \" (overflows)\")\n",
    "\n",
    "p9_big = PolynomialSparse{BigInt, Int}([Term(BigInt(8000000000000000000), 1)])\n",
    "p10_big = PolynomialSparse{BigInt, Int}([Term(BigInt(8000000000000000000), 1)])\n",
    "p_sum5_big = p9_big + p10_big\n",
    "println(\"With BigInt: \", p_sum5_big, \" (correct: 16000000000000000000x)\\n\")\n",
    "\n",
    "println(\"\\n\" * \"=\"^60)\n",
    "println(\"Benchmarking PolynomialSparse vs PolynomialDense\")\n",
    "println(\"=\"^60 * \"\\n\")\n",
    "\n",
    "using BenchmarkTools\n",
    "\n",
    "# Test case: Very sparse polynomial (only a few non-zero terms out of high degree)\n",
    "println(\"Test 1: Sparse polynomial (degree 100, only 5 non-zero terms)\")\n",
    "sparse_terms = [Term(1, 0), Term(2, 25), Term(3, 50), Term(4, 75), Term(5, 100)]\n",
    "dense_sparse = PolynomialDense{Int, Int}(sparse_terms)\n",
    "sparse_sparse = PolynomialSparse{Int, Int}(sparse_terms)\n",
    "\n",
    "println(\"\\nAddition:\")\n",
    "println(\"Dense:  \", @benchmark $dense_sparse + $dense_sparse)\n",
    "println(\"Sparse: \", @benchmark $sparse_sparse + $sparse_sparse)\n",
    "\n",
    "println(\"\\nMultiplication:\")\n",
    "println(\"Dense:  \", @benchmark $dense_sparse * $dense_sparse)\n",
    "println(\"Sparse: \", @benchmark $sparse_sparse * $sparse_sparse)\n",
    "\n",
    "# Test case: Medium sparse polynomial\n",
    "println(\"\\n\\nTest 2: Medium sparse polynomial (degree 50, 10 terms)\")\n",
    "med_terms = [Term(i, i*5) for i in 1:10]\n",
    "dense_med = PolynomialDense{Int, Int}(med_terms)\n",
    "sparse_med = PolynomialSparse{Int, Int}(med_terms)\n",
    "\n",
    "println(\"\\nAddition:\")\n",
    "println(\"Dense:  \", @benchmark $dense_med + $dense_med)\n",
    "println(\"Sparse: \", @benchmark $sparse_med + $sparse_med)\n",
    "\n",
    "println(\"\\nMultiplication:\")\n",
    "println(\"Dense:  \", @benchmark $dense_med * $dense_med)\n",
    "println(\"Sparse: \", @benchmark $sparse_med * $sparse_med)"
   ]
  },
  {
   "cell_type": "markdown",
   "id": "dc9a7707",
   "metadata": {},
   "source": [
    "### Task 3.10 (Table comparing pros/cons of dense and sparse representations)"
   ]
  },
  {
   "cell_type": "markdown",
   "id": "c2329cac",
   "metadata": {},
   "source": [
    "| Dense Representation | Sparse Representation |\n",
    "|---------------------|----------------------|\n",
    "| **Pro:** Fast access to any term by index (O(1)) | **Pro:** Memory efficient for polynomials with many zero terms |\n",
    "| **Pro:** Simple implementation, easy to understand | **Pro:** Faster operations when degree >> number of non-zero terms |\n",
    "| **Con:** Operations on high-degree sparse polynomials are slow | **Con:** More complex implementation and maintenance |"
   ]
  },
  {
   "cell_type": "markdown",
   "id": "ebd9af4b",
   "metadata": {},
   "source": [
    "### Task 4.4 (Showing the correctness of the pow_mod and ^ functions)"
   ]
  },
  {
   "cell_type": "code",
   "execution_count": null,
   "id": "dcce68d0",
   "metadata": {},
   "outputs": [],
   "source": [
    "using Pkg;Pkg.activate(\".\")\n",
    "include(\"test/runtests.jl\")"
   ]
  }
 ],
 "metadata": {
  "kernelspec": {
   "display_name": "Julia 1.11.6",
   "language": "julia",
   "name": "julia-1.11"
  },
  "language_info": {
   "file_extension": ".jl",
   "mimetype": "application/julia",
   "name": "julia",
   "version": "1.11.6"
  }
 },
 "nbformat": 4,
 "nbformat_minor": 5
}
