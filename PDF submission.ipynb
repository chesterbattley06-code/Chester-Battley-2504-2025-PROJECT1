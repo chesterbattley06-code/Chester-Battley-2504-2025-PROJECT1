{
 "cells": [
  {
   "cell_type": "code",
   "execution_count": 36,
   "id": "b9684508-2c50-4e1c-98cf-1151ecaf57ed",
   "metadata": {},
   "outputs": [
    {
     "name": "stdout",
     "output_type": "stream",
     "text": [
      "Constructing polynomials f, g, h using PolynomialDense:\n"
     ]
    },
    {
     "name": "stderr",
     "output_type": "stream",
     "text": [
      "\u001b[32m\u001b[1m  Activating\u001b[22m\u001b[39m project at `~/Library/CloudStorage/OneDrive-Personal/UQ/Semester 2 2025/MATH2504/Chester-Battley-2504-2025-PROJECT1`\n"
     ]
    },
    {
     "name": "stdout",
     "output_type": "stream",
     "text": [
      "f = x ^ 2 - 2x = -2⋅x^1 + 1⋅x^2\n",
      "g = 2 * x ^ 3 + 3 * x ^ 2 + -3 = -3 + 3⋅x^2 + 2⋅x^3\n",
      "h = x + 2 = 2 + 1⋅x^1\n",
      "Basic operations with the polynomials:\n",
      "f + g = -3 + -2⋅x^1 + 4⋅x^2 + 2⋅x^3\n",
      "f * h = -4⋅x^1 + 1⋅x^3\n",
      "g * h = -6 + -3⋅x^1 + 6⋅x^2 + 7⋅x^3 + 2⋅x^4\n",
      "Computing derivative(f*g) and confirming this follows product rule:\n",
      "derivative(f * g) = 6 + -6⋅x^1 + -18⋅x^2 + -4⋅x^3 + 10⋅x^4\n",
      "f * derivative(g) + g * derivative(f) = 6 + -6⋅x^1 + -18⋅x^2 + -4⋅x^3 + 10⋅x^4\n",
      "Computing (f*h)/h modulo 5,17,101 and confirming these match f modulo 5,17,101:\n",
      "div_mod_p(f * h, h, 5) = 3⋅x^1 + 1⋅x^2\n",
      "mod(f, 5) = 3⋅x^1 + 1⋅x^2\n",
      "div_mod_p(f * h, h, 17) = 15⋅x^1 + 1⋅x^2\n",
      "mod(f, 17) = 15⋅x^1 + 1⋅x^2\n",
      "div_mod_p(f * h, h, 101) = 99⋅x^1 + 1⋅x^2\n",
      "mod(f, 101) = 99⋅x^1 + 1⋅x^2\n",
      "Computing gcd_mod_p for p=5,11,13:\n",
      "gcd_mod_p(f * h, g * h, 5) = 4 + 4⋅x^2\n",
      "gcd_mod_p(f * h, g * h, 11) = 9 + 10⋅x^1\n",
      "gcd_mod_p(f * h, g * h, 13) = 6 + 3⋅x^1\n"
     ]
    },
    {
     "data": {
      "text/plain": [
       "6 + 3⋅x^1"
      ]
     },
     "metadata": {},
     "output_type": "display_data"
    }
   ],
   "source": [
    "## Task 1.1 (Create Example Scripts)\n",
    "using Pkg\n",
    "Pkg.activate(\".\")\n",
    "\n",
    "include(\"poly_factorization_project.jl\")\n",
    "\n",
    "x = x_poly(PolynomialDense)\n",
    "println(\"Constructing polynomials f, g, h using PolynomialDense:\")\n",
    "@show f = x^2 - 2x\n",
    "@show g = 2x^3 + 3x^2 + (-3)\n",
    "@show h = x + 2\n",
    "\n",
    "println(\"Basic operations with the polynomials:\")\n",
    "@show f + g\n",
    "@show f * h\n",
    "@show g * h\n",
    "\n",
    "println(\"Computing derivative(f*g) and confirming this follows product rule:\")\n",
    "@show derivative(f*g)\n",
    "@show f*derivative(g) + g*derivative(f)\n",
    "\n",
    "println(\"Computing (f*h)/h modulo 5,17,101 and confirming these match f modulo 5,17,101:\")\n",
    "@show div_mod_p((f*h), h, 5)\n",
    "@show mod(f, 5)\n",
    "@show div_mod_p((f*h), h, 17)\n",
    "@show mod(f, 17)\n",
    "@show div_mod_p((f*h), h, 101)\n",
    "@show mod(f, 101)\n",
    "\n",
    "println(\"Computing gcd_mod_p for p=5,11,13:\")\n",
    "@show gcd_mod_p(f*h, g*h, 5)\n",
    "@show gcd_mod_p(f*h, g*h, 11)\n",
    "@show gcd_mod_p(f*h, g*h, 13)"
   ]
  },
  {
   "cell_type": "code",
   "execution_count": 39,
   "id": "d349158c",
   "metadata": {},
   "outputs": [
    {
     "ename": "UndefVarError",
     "evalue": "UndefVarError: `Pretty` not defined in `Main`\nSuggestion: check for spelling errors or missing imports.",
     "output_type": "error",
     "traceback": [
      "UndefVarError: `Pretty` not defined in `Main`\n",
      "Suggestion: check for spelling errors or missing imports.\n"
     ]
    }
   ],
   "source": [
    "## Task 1.2 (Pretty Printing)\n",
    "Pretty printing instructions have been successfully followed, which is demonstrated in the output in Task 1.1 above."
   ]
  }
 ],
 "metadata": {
  "kernelspec": {
   "display_name": "Julia 1.11.6",
   "language": "julia",
   "name": "julia-1.11"
  },
  "language_info": {
   "file_extension": ".jl",
   "mimetype": "application/julia",
   "name": "julia",
   "version": "1.11.6"
  }
 },
 "nbformat": 4,
 "nbformat_minor": 5
}
